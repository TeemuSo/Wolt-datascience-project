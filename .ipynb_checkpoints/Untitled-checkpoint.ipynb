{
 "cells": [
  {
   "cell_type": "markdown",
   "metadata": {},
   "source": [
    "Import libraries"
   ]
  },
  {
   "cell_type": "code",
   "execution_count": 10,
   "metadata": {},
   "outputs": [],
   "source": [
    "import gmaps\n",
    "import pandas as pd\n",
    "import numpy as np\n",
    "\n",
    "from IPython.display import display\n",
    "from datetime import datetime\n",
    "from datetime import timedelta\n",
    "from matplotlib import pyplot as plt"
   ]
  },
  {
   "cell_type": "markdown",
   "metadata": {},
   "source": [
    "**Authenticate gmaps**"
   ]
  },
  {
   "cell_type": "code",
   "execution_count": 3,
   "metadata": {},
   "outputs": [],
   "source": [
    "apikey = open('apikey.txt', 'r').read()\n",
    "\n",
    "gmaps.configure(api_key=apikey)"
   ]
  },
  {
   "cell_type": "markdown",
   "metadata": {},
   "source": [
    "**Read data**"
   ]
  },
  {
   "cell_type": "code",
   "execution_count": 7,
   "metadata": {},
   "outputs": [],
   "source": [
    "filename = 'orders_autumn_2020.csv'\n",
    "\n",
    "order_data = pd.read_csv(filename)"
   ]
  },
  {
   "cell_type": "markdown",
   "metadata": {},
   "source": [
    "**Helper functions**"
   ]
  },
  {
   "cell_type": "code",
   "execution_count": 8,
   "metadata": {},
   "outputs": [],
   "source": [
    "def filter_data(data, hours, current_time):\n",
    "    \"\"\"\n",
    "    Return datapoints which fall within certain limits given the current time and the limit resolution.\n",
    "\n",
    "    Parameters\n",
    "    ----------\n",
    "    data : pandas.DataFrame\n",
    "        Input data to be filtered.\n",
    "    current_time : DateTime\n",
    "        format yyyy-MM-dd HH:mm:ss.SSS\n",
    "    hours: float\n",
    "        resolution in hours.\n",
    "\n",
    "    Returns\n",
    "    -------\n",
    "    filtered_data : pandas.DataFrame\n",
    "        Data that is filtered based on resolution around current timestamp.\n",
    "\n",
    "    \"\"\"\n",
    "    time_difference = order_data['TIMESTAMP'].map(string_to_date) - current_time\n",
    "    upper_limit = timedelta(hours=hours)\n",
    "    lower_limit = timedelta(hours=-1*hours)\n",
    "    \n",
    "    \n",
    "    filtered_data = data[(lower_limit < time_difference) & (time_difference < upper_limit)]\n",
    "\n",
    "    return filtered_data"
   ]
  },
  {
   "cell_type": "markdown",
   "metadata": {},
   "source": [
    "**Plot map**"
   ]
  },
  {
   "cell_type": "code",
   "execution_count": 6,
   "metadata": {},
   "outputs": [
    {
     "data": {
      "application/vnd.jupyter.widget-view+json": {
       "model_id": "b9258b86c4834eefa307c0d0cb796ba9",
       "version_major": 2,
       "version_minor": 0
      },
      "text/plain": [
       "Figure(layout=FigureLayout(height='420px'))"
      ]
     },
     "metadata": {},
     "output_type": "display_data"
    }
   ],
   "source": [
    "locations = order_data[['VENUE_LAT', 'VENUE_LONG']]\n",
    "fig = gmaps.figure() \n",
    "fig.add_layer(gmaps.heatmap_layer(locations)) \n",
    "fig \n"
   ]
  },
  {
   "cell_type": "markdown",
   "metadata": {},
   "source": [
    "**Visualize orders w.r.t time**"
   ]
  },
  {
   "cell_type": "code",
   "execution_count": null,
   "metadata": {},
   "outputs": [],
   "source": [
    "class HeatmapAnimation(object):\n",
    "    \n",
    "    def __init__(self, data, init_coords, step_size, sliding_window_size, start_index, end_index):\n",
    "        self._data = data\n",
    "        \n",
    "        self._sliding_window_size = sliding_window_size\n",
    "        self._step_size = step_size\n",
    "        self._start_index = start_index\n",
    "        self._end_index = end_index\n",
    "        \n",
    "        self._figure = gmaps.figure(center=init_coords)\n",
    "        self._current_index = start_index\n",
    "        self._heatmap = gmaps.heatmap_layer(data[self._current_index])\n",
    "        self._figure.add_layer(self._heatmap)\n",
    "        \n",
    "    def render(self):\n",
    "        return display(self._figure)\n",
    "    \n",
    "    def start_animation(self):\n",
    "        while self._current_index < (self._end_index + self._step_size):\n",
    "            self._current_index = (self._current_index + self._step_size)\n",
    "            self._render_current_dataset()\n",
    "            time.sleep(1)\n",
    "    \n",
    "    # update the locations drawn on the heatmap\n",
    "    def _render_current_dataset(self):\n",
    "        self._heatmap.locations = data[self._current_index : self._sliding_window_size] "
   ]
  }
 ],
 "metadata": {
  "kernelspec": {
   "display_name": "wolt",
   "language": "python",
   "name": "wolt"
  },
  "language_info": {
   "codemirror_mode": {
    "name": "ipython",
    "version": 3
   },
   "file_extension": ".py",
   "mimetype": "text/x-python",
   "name": "python",
   "nbconvert_exporter": "python",
   "pygments_lexer": "ipython3",
   "version": "3.7.9"
  }
 },
 "nbformat": 4,
 "nbformat_minor": 4
}
