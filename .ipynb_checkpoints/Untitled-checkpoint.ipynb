{
 "cells": [
  {
   "cell_type": "markdown",
   "metadata": {},
   "source": [
    "Import libraries"
   ]
  },
  {
   "cell_type": "code",
   "execution_count": 60,
   "metadata": {},
   "outputs": [],
   "source": [
    "import gmaps\n",
    "import pandas as pd\n",
    "import numpy as np\n",
    "import time\n",
    "import ipywidgets as widgets\n",
    "\n",
    "from ipywidgets import interact\n",
    "from IPython.display import display\n",
    "from datetime import datetime\n",
    "from datetime import timedelta\n",
    "from matplotlib import pyplot as plt"
   ]
  },
  {
   "cell_type": "markdown",
   "metadata": {},
   "source": [
    "**Authenticate gmaps**"
   ]
  },
  {
   "cell_type": "code",
   "execution_count": 49,
   "metadata": {},
   "outputs": [],
   "source": [
    "apikey = open('apikey.txt', 'r').read()\n",
    "\n",
    "gmaps.configure(api_key=apikey)"
   ]
  },
  {
   "cell_type": "markdown",
   "metadata": {},
   "source": [
    "**Read data**"
   ]
  },
  {
   "cell_type": "code",
   "execution_count": 42,
   "metadata": {},
   "outputs": [],
   "source": [
    "filename = 'orders_autumn_2020.csv'\n",
    "\n",
    "order_data = pd.read_csv(filename)"
   ]
  },
  {
   "cell_type": "markdown",
   "metadata": {},
   "source": [
    "**Helper functions**"
   ]
  },
  {
   "cell_type": "code",
   "execution_count": 8,
   "metadata": {},
   "outputs": [],
   "source": [
    "def filter_data(data, hours, current_time):\n",
    "    \"\"\"\n",
    "    Return datapoints which fall within certain limits given the current time and the limit resolution.\n",
    "\n",
    "    Parameters\n",
    "    ----------\n",
    "    data : pandas.DataFrame\n",
    "        Input data to be filtered.\n",
    "    current_time : DateTime\n",
    "        format yyyy-MM-dd HH:mm:ss.SSS\n",
    "    hours: float\n",
    "        resolution in hours.\n",
    "\n",
    "    Returns\n",
    "    -------\n",
    "    filtered_data : pandas.DataFrame\n",
    "        Data that is filtered based on resolution around current timestamp.\n",
    "\n",
    "    \"\"\"\n",
    "    time_difference = order_data['TIMESTAMP'].map(string_to_date) - current_time\n",
    "    upper_limit = timedelta(hours=hours)\n",
    "    lower_limit = timedelta(hours=-1*hours)\n",
    "    \n",
    "    \n",
    "    filtered_data = data[(lower_limit < time_difference) & (time_difference < upper_limit)]\n",
    "\n",
    "    return filtered_data"
   ]
  },
  {
   "cell_type": "markdown",
   "metadata": {},
   "source": [
    "**Plot map**"
   ]
  },
  {
   "cell_type": "markdown",
   "metadata": {},
   "source": [
    "**Visualize orders w.r.t time**"
   ]
  },
  {
   "cell_type": "code",
   "execution_count": 62,
   "metadata": {},
   "outputs": [],
   "source": [
    "class Heatmap(object):\n",
    "    \n",
    "    def __init__(self, data, init_coords, step_size, sliding_window_size, start_index, end_index, frame_delay=1):\n",
    "        self._data = data\n",
    "        \n",
    "        self._sliding_window_size = sliding_window_size\n",
    "        self._step_size = step_size\n",
    "        self._start_index = start_index\n",
    "        self._end_index = end_index\n",
    "        self._frame_delay = frame_delay\n",
    "        \n",
    "        self._figure = gmaps.figure()\n",
    "        self._current_index = start_index\n",
    "        self._heatmap = gmaps.heatmap_layer(data[self._current_index : self._sliding_window_size])\n",
    "        self._figure.add_layer(self._heatmap)\n",
    "        \n",
    "    def render(self):\n",
    "        return display(self._figure)\n",
    "    \n",
    "    def start_animation(self):\n",
    "        while self._current_index < (self._end_index + self._step_size + self._sliding_window_size):\n",
    "            self._current_index = (self._current_index + self._step_size)\n",
    "\n",
    "            self._render_data(self._current_index, self._current_index + self._sliding_window_size)\n",
    "            time.sleep(self._frame_delay)\n",
    "    \n",
    "    def start_interactive(self):\n",
    "        self._date_picker()\n",
    "        \n",
    "    \n",
    "    def set_interactive_date_limits(start_date, end_date):\n",
    "        start_index = self._find_closest_entry(pd.to_datetime(start_date))\n",
    "        end_index = self._find_closest_entry(pd.to_datetime(end_date))\n",
    "        self._render_data(start_index, end_index)\n",
    "        \n",
    "        \n",
    "    def _find_closest_entry(date_to_search):\n",
    "        return pd.to_datetime(self._data[\"TIMESTAMP\"]).sub(date_to_search).abs().idxmin()\n",
    "    \n",
    "    \n",
    "    # Summon date picker widget\n",
    "    def _date_picker(self):\n",
    "        interact(self.set_interactive_date_limits,\n",
    "            start_date = widgets.DatePicker(value = pd.to_datetime('2020-08-10')),\n",
    "            end_date = widgets.DatePicker(value = pd.to_datetime('2020-08-12'))\n",
    "        )\n",
    "    \n",
    "    # update the locations drawn on the heatmap\n",
    "    def _render_data(self, start_index, end_index):\n",
    "        self._heatmap.locations = self._data[start_index : end_index] "
   ]
  },
  {
   "cell_type": "code",
   "execution_count": 63,
   "metadata": {
    "scrolled": true
   },
   "outputs": [
    {
     "data": {
      "application/vnd.jupyter.widget-view+json": {
       "model_id": "6381648b531c40898e43a86451d10afb",
       "version_major": 2,
       "version_minor": 0
      },
      "text/plain": [
       "Figure(layout=FigureLayout(height='420px'))"
      ]
     },
     "metadata": {},
     "output_type": "display_data"
    },
    {
     "ename": "NameError",
     "evalue": "name 'set_interactive_date_limits' is not defined",
     "output_type": "error",
     "traceback": [
      "\u001b[1;31m---------------------------------------------------------------------------\u001b[0m",
      "\u001b[1;31mNameError\u001b[0m                                 Traceback (most recent call last)",
      "\u001b[1;32m<ipython-input-63-22dcacdeeeab>\u001b[0m in \u001b[0;36m<module>\u001b[1;34m\u001b[0m\n\u001b[0;32m      8\u001b[0m \u001b[0mheatmap\u001b[0m \u001b[1;33m=\u001b[0m \u001b[0mHeatmap\u001b[0m\u001b[1;33m(\u001b[0m\u001b[0mlocations\u001b[0m\u001b[1;33m,\u001b[0m \u001b[0mhelsinki_coords\u001b[0m\u001b[1;33m,\u001b[0m \u001b[0mstep_size\u001b[0m\u001b[1;33m,\u001b[0m \u001b[0msliding_window_size\u001b[0m\u001b[1;33m,\u001b[0m \u001b[0mstart_index\u001b[0m\u001b[1;33m,\u001b[0m \u001b[0mend_index\u001b[0m\u001b[1;33m,\u001b[0m \u001b[0mframe_delay\u001b[0m\u001b[1;33m=\u001b[0m\u001b[1;36m0.5\u001b[0m\u001b[1;33m)\u001b[0m\u001b[1;33m\u001b[0m\u001b[1;33m\u001b[0m\u001b[0m\n\u001b[0;32m      9\u001b[0m \u001b[0mheatmap\u001b[0m\u001b[1;33m.\u001b[0m\u001b[0mrender\u001b[0m\u001b[1;33m(\u001b[0m\u001b[1;33m)\u001b[0m\u001b[1;33m\u001b[0m\u001b[1;33m\u001b[0m\u001b[0m\n\u001b[1;32m---> 10\u001b[1;33m \u001b[0mheatmap\u001b[0m\u001b[1;33m.\u001b[0m\u001b[0mstart_interactive\u001b[0m\u001b[1;33m(\u001b[0m\u001b[1;33m)\u001b[0m\u001b[1;33m\u001b[0m\u001b[1;33m\u001b[0m\u001b[0m\n\u001b[0m",
      "\u001b[1;32m<ipython-input-62-472a2d8f3d16>\u001b[0m in \u001b[0;36mstart_interactive\u001b[1;34m(self)\u001b[0m\n\u001b[0;32m     26\u001b[0m \u001b[1;33m\u001b[0m\u001b[0m\n\u001b[0;32m     27\u001b[0m     \u001b[1;32mdef\u001b[0m \u001b[0mstart_interactive\u001b[0m\u001b[1;33m(\u001b[0m\u001b[0mself\u001b[0m\u001b[1;33m)\u001b[0m\u001b[1;33m:\u001b[0m\u001b[1;33m\u001b[0m\u001b[1;33m\u001b[0m\u001b[0m\n\u001b[1;32m---> 28\u001b[1;33m         \u001b[0mself\u001b[0m\u001b[1;33m.\u001b[0m\u001b[0m_date_picker\u001b[0m\u001b[1;33m(\u001b[0m\u001b[1;33m)\u001b[0m\u001b[1;33m\u001b[0m\u001b[1;33m\u001b[0m\u001b[0m\n\u001b[0m\u001b[0;32m     29\u001b[0m \u001b[1;33m\u001b[0m\u001b[0m\n\u001b[0;32m     30\u001b[0m \u001b[1;33m\u001b[0m\u001b[0m\n",
      "\u001b[1;32m<ipython-input-62-472a2d8f3d16>\u001b[0m in \u001b[0;36m_date_picker\u001b[1;34m(self)\u001b[0m\n\u001b[0;32m     41\u001b[0m     \u001b[1;31m# Summon date picker widget\u001b[0m\u001b[1;33m\u001b[0m\u001b[1;33m\u001b[0m\u001b[1;33m\u001b[0m\u001b[0m\n\u001b[0;32m     42\u001b[0m     \u001b[1;32mdef\u001b[0m \u001b[0m_date_picker\u001b[0m\u001b[1;33m(\u001b[0m\u001b[0mself\u001b[0m\u001b[1;33m)\u001b[0m\u001b[1;33m:\u001b[0m\u001b[1;33m\u001b[0m\u001b[1;33m\u001b[0m\u001b[0m\n\u001b[1;32m---> 43\u001b[1;33m         interact(set_interactive_date_limits,\n\u001b[0m\u001b[0;32m     44\u001b[0m             \u001b[0mstart_date\u001b[0m \u001b[1;33m=\u001b[0m \u001b[0mwidgets\u001b[0m\u001b[1;33m.\u001b[0m\u001b[0mDatePicker\u001b[0m\u001b[1;33m(\u001b[0m\u001b[0mvalue\u001b[0m \u001b[1;33m=\u001b[0m \u001b[0mpd\u001b[0m\u001b[1;33m.\u001b[0m\u001b[0mto_datetime\u001b[0m\u001b[1;33m(\u001b[0m\u001b[1;34m'2020-08-10'\u001b[0m\u001b[1;33m)\u001b[0m\u001b[1;33m)\u001b[0m\u001b[1;33m,\u001b[0m\u001b[1;33m\u001b[0m\u001b[1;33m\u001b[0m\u001b[0m\n\u001b[0;32m     45\u001b[0m             \u001b[0mend_date\u001b[0m \u001b[1;33m=\u001b[0m \u001b[0mwidgets\u001b[0m\u001b[1;33m.\u001b[0m\u001b[0mDatePicker\u001b[0m\u001b[1;33m(\u001b[0m\u001b[0mvalue\u001b[0m \u001b[1;33m=\u001b[0m \u001b[0mpd\u001b[0m\u001b[1;33m.\u001b[0m\u001b[0mto_datetime\u001b[0m\u001b[1;33m(\u001b[0m\u001b[1;34m'2020-08-12'\u001b[0m\u001b[1;33m)\u001b[0m\u001b[1;33m)\u001b[0m\u001b[1;33m\u001b[0m\u001b[1;33m\u001b[0m\u001b[0m\n",
      "\u001b[1;31mNameError\u001b[0m: name 'set_interactive_date_limits' is not defined"
     ]
    }
   ],
   "source": [
    "locations = order_data[['VENUE_LAT', 'VENUE_LONG']]\n",
    "helsinki_coords = [60.168673, 24.938918]\n",
    "step_size = 20\n",
    "sliding_window_size = 500\n",
    "start_index = 0\n",
    "end_index = 2000\n",
    "\n",
    "heatmap = Heatmap(locations, helsinki_coords, step_size, sliding_window_size, start_index, end_index, frame_delay=0.5)\n",
    "heatmap.render()\n",
    "heatmap.start_interactive()"
   ]
  },
  {
   "cell_type": "code",
   "execution_count": 33,
   "metadata": {},
   "outputs": [
    {
     "data": {
      "text/plain": [
       "(array([], dtype=int64), array([], dtype=int64))"
      ]
     },
     "execution_count": 33,
     "metadata": {},
     "output_type": "execute_result"
    }
   ],
   "source": []
  }
 ],
 "metadata": {
  "kernelspec": {
   "display_name": "wolt",
   "language": "python",
   "name": "wolt"
  },
  "language_info": {
   "codemirror_mode": {
    "name": "ipython",
    "version": 3
   },
   "file_extension": ".py",
   "mimetype": "text/x-python",
   "name": "python",
   "nbconvert_exporter": "python",
   "pygments_lexer": "ipython3",
   "version": "3.7.9"
  }
 },
 "nbformat": 4,
 "nbformat_minor": 4
}
