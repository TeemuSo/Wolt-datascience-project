{
 "cells": [
  {
   "cell_type": "markdown",
   "metadata": {},
   "source": [
    "Import libraries"
   ]
  },
  {
   "cell_type": "code",
   "execution_count": 296,
   "metadata": {},
   "outputs": [],
   "source": [
    "import gmaps\n",
    "import pandas as pd\n",
    "import numpy as np\n",
    "import time\n",
    "import ipywidgets as widgets\n",
    "import threading\n",
    "\n",
    "from ipywidgets import interact, interact_manual\n",
    "from IPython.display import display, clear_output\n",
    "from datetime import datetime\n",
    "from datetime import timedelta\n",
    "from matplotlib import pyplot as plt"
   ]
  },
  {
   "cell_type": "markdown",
   "metadata": {},
   "source": [
    "**Authenticate gmaps**"
   ]
  },
  {
   "cell_type": "code",
   "execution_count": 49,
   "metadata": {},
   "outputs": [],
   "source": [
    "apikey = open('apikey.txt', 'r').read()\n",
    "\n",
    "gmaps.configure(api_key=apikey)"
   ]
  },
  {
   "cell_type": "markdown",
   "metadata": {},
   "source": [
    "**Read data**"
   ]
  },
  {
   "cell_type": "code",
   "execution_count": 42,
   "metadata": {},
   "outputs": [],
   "source": [
    "filename = 'orders_autumn_2020.csv'\n",
    "\n",
    "order_data = pd.read_csv(filename)"
   ]
  },
  {
   "cell_type": "markdown",
   "metadata": {},
   "source": [
    "**Helper functions**"
   ]
  },
  {
   "cell_type": "code",
   "execution_count": 8,
   "metadata": {},
   "outputs": [],
   "source": [
    "def filter_data(data, hours, current_time):\n",
    "    \"\"\"\n",
    "    Return datapoints which fall within certain limits given the current time and the limit resolution.\n",
    "\n",
    "    Parameters\n",
    "    ----------\n",
    "    data : pandas.DataFrame\n",
    "        Input data to be filtered.\n",
    "    current_time : DateTime\n",
    "        format yyyy-MM-dd HH:mm:ss.SSS\n",
    "    hours: float\n",
    "        resolution in hours.\n",
    "\n",
    "    Returns\n",
    "    -------\n",
    "    filtered_data : pandas.DataFrame\n",
    "        Data that is filtered based on resolution around current timestamp.\n",
    "\n",
    "    \"\"\"\n",
    "    time_difference = order_data['TIMESTAMP'].map(string_to_date) - current_time\n",
    "    upper_limit = timedelta(hours=hours)\n",
    "    lower_limit = timedelta(hours=-1*hours)\n",
    "    \n",
    "    \n",
    "    filtered_data = data[(lower_limit < time_difference) & (time_difference < upper_limit)]\n",
    "\n",
    "    return filtered_data"
   ]
  },
  {
   "cell_type": "markdown",
   "metadata": {},
   "source": [
    "**Plot map**"
   ]
  },
  {
   "cell_type": "markdown",
   "metadata": {},
   "source": [
    "**Visualize orders w.r.t time**"
   ]
  },
  {
   "cell_type": "code",
   "execution_count": 343,
   "metadata": {},
   "outputs": [],
   "source": [
    "class Heatmap(object):\n",
    "    \n",
    "    def __init__(self, data, step_size, sliding_window_size, frame_delay=1):\n",
    "        self._data = data\n",
    "        self._locations = data[[\"VENUE_LAT\", \"VENUE_LONG\"]]\n",
    "        \n",
    "        self._sliding_window_size = sliding_window_size\n",
    "        self._step_size = step_size\n",
    "        self._frame_delay = frame_delay\n",
    "        self._running = False\n",
    "        \n",
    "        self._figure = gmaps.figure()\n",
    "        self._current_index = 0\n",
    "        self._heatmap = gmaps.heatmap_layer(self._locations[self._current_index : self._sliding_window_size])\n",
    "        self._figure.add_layer(self._heatmap)\n",
    "        \n",
    "        \n",
    "    \n",
    "    ##### \n",
    "    # Public functions\n",
    "    #####\n",
    "    def start_interactive_mode(self):\n",
    "        self._init_interactives()\n",
    "        \n",
    "    def set_frame_delay(self, frame_delay):\n",
    "        self._frame_delay = frame_delay\n",
    "        \n",
    "    def render(self):\n",
    "        return display(self._figure)\n",
    "    \n",
    "    \n",
    "    #####\n",
    "    # Interactive elements\n",
    "    #####\n",
    "    def _init_interactives(self):\n",
    "        self._init_date_pickers()\n",
    "        self._init_point_size_slider()\n",
    "        self._init_start_button()\n",
    "        self._init_stop_button()\n",
    "        self._init_output_panel()\n",
    "        \n",
    "    \n",
    "    def _init_date_pickers(self):\n",
    "        interact(self._set_interactive_date_limits,\n",
    "            start_date = widgets.DatePicker(value = pd.to_datetime('2020-08-10')),\n",
    "            end_date = widgets.DatePicker(value = pd.to_datetime('2020-08-12'))\n",
    "        )\n",
    "    \n",
    "    \n",
    "    def _init_point_size_slider(self):\n",
    "        interact(self._set_pointsize,\n",
    "            pointsize = widgets.IntSlider(value=50, continous_update=False)\n",
    "        )\n",
    "        \n",
    "        \n",
    "    def _init_start_button(self):\n",
    "        im = interact_manual(self._start_animation, description = \"Start animation\")\n",
    "        im.widget.children[0].description = \"Start animation\"\n",
    "        \n",
    "        \n",
    "        \n",
    "    def _init_stop_button(self):\n",
    "        im = interact_manual(self._stop_animation)\n",
    "        im.widget.children[0].description = \"Stop animation\"\n",
    "    \n",
    "    \n",
    "    def _init_output_panel(self):\n",
    "        self._out = widgets.Output(layout={'border': '1px solid black'})\n",
    "        self._out.layout.width = 'calc(50%)'\n",
    "        self._out.layout.height = '8ex'\n",
    "        display(self._out)\n",
    "        \n",
    "    \n",
    "    #####\n",
    "    # Heatmap accessor functions\n",
    "    ####\n",
    "    def _start_animation(self):\n",
    "        self._running = True\n",
    "        \n",
    "        start_index = self._find_closest_entry(pd.to_datetime(self._current_start_date))\n",
    "        end_index = self._find_closest_entry(pd.to_datetime(self._current_end_date))\n",
    "        \n",
    "        self._current_index = start_index\n",
    "        \n",
    "        def run():\n",
    "            while self._current_index < (end_index - self._step_size - self._sliding_window_size) and self._running:\n",
    "                self._current_index = (self._current_index + self._step_size)\n",
    "\n",
    "                self._render_data(self._current_index, self._current_index + self._sliding_window_size)\n",
    "                time.sleep(self._frame_delay)\n",
    "        \n",
    "            self._running = False\n",
    "            display(\"\")\n",
    "        \n",
    "        thread = threading.Thread(target=run)\n",
    "        thread.start()\n",
    "    \n",
    "    \n",
    "    def _stop_animation(self):\n",
    "        self._running = False\n",
    "    \n",
    "    \n",
    "    def _find_closest_entry(self, date_to_search):\n",
    "        return pd.to_datetime(self._data[\"TIMESTAMP\"]).sub(date_to_search).abs().idxmin()\n",
    "    \n",
    "    \n",
    "    def _set_pointsize(self, pointsize):\n",
    "        self._heatmap.point_radius = pointsize\n",
    "    \n",
    "\n",
    "    def _set_interactive_date_limits(self, start_date, end_date):\n",
    "        # Update currently chosen dates, so hourly slider works\n",
    "        self._current_start_date = start_date\n",
    "        self._current_end_date = end_date\n",
    "        \n",
    "        start_index = self._find_closest_entry(pd.to_datetime(start_date))\n",
    "        end_index = self._find_closest_entry(pd.to_datetime(end_date))\n",
    "        self._render_data(start_index, end_index)\n",
    "    \n",
    "    \n",
    "    # update the locations drawn on the heatmap\n",
    "    def _render_data(self, start_index, end_index):\n",
    "        if self._running:\n",
    "            with self._out:\n",
    "                clear_output()\n",
    "                output_text = print(\"Date interval displayed: \\n{0} - {1}\".format(self._data.iloc[start_index][\"TIMESTAMP\"],\n",
    "                                               self._data.iloc[end_index][\"TIMESTAMP\"]))\n",
    "                display(output_text)\n",
    "        self._heatmap.locations = self._locations[start_index : end_index] \n",
    "        "
   ]
  },
  {
   "cell_type": "code",
   "execution_count": 349,
   "metadata": {
    "scrolled": true
   },
   "outputs": [],
   "source": [
    "# How many orders are we stepping forward on each iteration\n",
    "step_size = 4\n",
    "# How many orders are we including in single view\n",
    "sliding_window_size = 40\n",
    "# How long do you want to display single frame? (sec)\n",
    "frame_delay = 0.3\n",
    "\n",
    "heatmap = Heatmap(order_data, step_size, sliding_window_size, frame_delay)"
   ]
  },
  {
   "cell_type": "code",
   "execution_count": 350,
   "metadata": {},
   "outputs": [
    {
     "data": {
      "application/vnd.jupyter.widget-view+json": {
       "model_id": "fa563cf9caf0411e8d035c6e8b3ad717",
       "version_major": 2,
       "version_minor": 0
      },
      "text/plain": [
       "interactive(children=(DatePicker(value=Timestamp('2020-08-10 00:00:00'), description='start_date'), DatePicker…"
      ]
     },
     "metadata": {},
     "output_type": "display_data"
    },
    {
     "data": {
      "application/vnd.jupyter.widget-view+json": {
       "model_id": "623de27ab64d457c9b6b619b11b3e26d",
       "version_major": 2,
       "version_minor": 0
      },
      "text/plain": [
       "interactive(children=(IntSlider(value=50, description='pointsize'), Output()), _dom_classes=('widget-interact'…"
      ]
     },
     "metadata": {},
     "output_type": "display_data"
    },
    {
     "data": {
      "application/vnd.jupyter.widget-view+json": {
       "model_id": "8fe86ef4a838469caefa44901d48b160",
       "version_major": 2,
       "version_minor": 0
      },
      "text/plain": [
       "interactive(children=(Button(description='Run Interact', style=ButtonStyle()), Output()), _dom_classes=('widge…"
      ]
     },
     "metadata": {},
     "output_type": "display_data"
    },
    {
     "data": {
      "application/vnd.jupyter.widget-view+json": {
       "model_id": "9c54080b9dd146468d150ed3be5b0575",
       "version_major": 2,
       "version_minor": 0
      },
      "text/plain": [
       "interactive(children=(Button(description='Run Interact', style=ButtonStyle()), Output()), _dom_classes=('widge…"
      ]
     },
     "metadata": {},
     "output_type": "display_data"
    },
    {
     "data": {
      "application/vnd.jupyter.widget-view+json": {
       "model_id": "c6f5c7c100d34201942f30cc62ddfb17",
       "version_major": 2,
       "version_minor": 0
      },
      "text/plain": [
       "Output(layout=Layout(border='1px solid black', height='8ex', width='calc(50%)'))"
      ]
     },
     "metadata": {},
     "output_type": "display_data"
    },
    {
     "data": {
      "application/vnd.jupyter.widget-view+json": {
       "model_id": "6d3ab8ff50064931a029067c4817fe6a",
       "version_major": 2,
       "version_minor": 0
      },
      "text/plain": [
       "Figure(layout=FigureLayout(height='420px'))"
      ]
     },
     "metadata": {},
     "output_type": "display_data"
    },
    {
     "data": {
      "text/plain": [
       "''"
      ]
     },
     "metadata": {},
     "output_type": "display_data"
    }
   ],
   "source": [
    "heatmap.start_interactive_mode()\n",
    "heatmap.render()"
   ]
  }
 ],
 "metadata": {
  "kernelspec": {
   "display_name": "wolt",
   "language": "python",
   "name": "wolt"
  },
  "language_info": {
   "codemirror_mode": {
    "name": "ipython",
    "version": 3
   },
   "file_extension": ".py",
   "mimetype": "text/x-python",
   "name": "python",
   "nbconvert_exporter": "python",
   "pygments_lexer": "ipython3",
   "version": "3.7.9"
  }
 },
 "nbformat": 4,
 "nbformat_minor": 4
}
